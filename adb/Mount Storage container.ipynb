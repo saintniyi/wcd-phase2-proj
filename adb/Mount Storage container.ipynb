{
 "cells": [
  {
   "cell_type": "markdown",
   "metadata": {},
   "source": [
    "#### Mount Azure Datalake Container "
   ]
  },
  {
   "cell_type": "code",
   "execution_count": 0,
   "metadata": {
    "application/vnd.databricks.v1+cell": {
     "cellMetadata": {
      "byteLimit": 2048000,
      "rowLimit": 10000
     },
     "inputWidgets": {},
     "nuid": "b5d1be21-5746-4a1a-9797-737ad18733c7",
     "showTitle": false,
     "title": ""
    }
   },
   "outputs": [
    {
     "data": {
      "text/plain": [
       "True"
      ]
     },
     "execution_count": 2,
     "metadata": {},
     "output_type": "execute_result"
    }
   ],
   "source": [
    "storageAccountName = 'sa4adf1'\n",
    "containerName = 'bd-project'\n",
    "applicationId = '65gk83fd-cb9f-3c19-80d6-8e908d80cf83'\n",
    "secretValue = '189Q~z_RBT2Brk7EiJptIj-GSHsgaHRf.5wNaBH'\n",
    "directoryID = '7a1k8d2f-6c34-4218-8f86-2a3633cc2e34'\n",
    "endpoint = 'https://login.microsoftonline.com/' + directoryID + '/oauth2/token'\n",
    "source = 'abfss://' + containerName + '@' + storageAccountName + '.dfs.core.windows.net/'\n",
    "mountPoint = \"/mnt/bd-project\"\n",
    "\n",
    "configs = {\"fs.azure.account.auth.type\": \"OAuth\",\n",
    "           \"fs.azure.account.oauth.provider.type\": \"org.apache.hadoop.fs.azurebfs.oauth2.ClientCredsTokenProvider\",\n",
    "           \"fs.azure.account.oauth2.client.id\": applicationId,\n",
    "           \"fs.azure.account.oauth2.client.secret\": secretValue,\n",
    "           \"fs.azure.account.oauth2.client.endpoint\": endpoint}\n",
    "\n",
    "\n",
    "dbutils.fs.mount(source = source, mount_point = mountPoint, extra_configs = configs)"
   ]
  },
  {
   "cell_type": "markdown",
   "metadata": {},
   "source": [
    "#### Display Mount Directory"
   ]
  },
  {
   "cell_type": "code",
   "execution_count": 0,
   "metadata": {
    "application/vnd.databricks.v1+cell": {
     "cellMetadata": {
      "byteLimit": 2048000,
      "rowLimit": 10000
     },
     "inputWidgets": {},
     "nuid": "32b87a51-aaf1-4d95-9081-1d17d3721560",
     "showTitle": false,
     "title": ""
    }
   },
   "outputs": [
    {
     "data": {
      "text/html": [
       "<style scoped>\n",
       "  .table-result-container {\n",
       "    max-height: 300px;\n",
       "    overflow: auto;\n",
       "  }\n",
       "  table, th, td {\n",
       "    border: 1px solid black;\n",
       "    border-collapse: collapse;\n",
       "  }\n",
       "  th, td {\n",
       "    padding: 5px;\n",
       "  }\n",
       "  th {\n",
       "    text-align: left;\n",
       "  }\n",
       "</style><div class='table-result-container'><table class='table-result'><thead style='background-color: white'><tr><th>path</th><th>name</th><th>size</th><th>modificationTime</th></tr></thead><tbody><tr><td>dbfs:/mnt/bd-project/LRModel/</td><td>LRModel/</td><td>0</td><td>1719063436000</td></tr><tr><td>dbfs:/mnt/bd-project/StringIndexer/</td><td>StringIndexer/</td><td>0</td><td>1719063442000</td></tr><tr><td>dbfs:/mnt/bd-project/bi/</td><td>bi/</td><td>0</td><td>1719079080000</td></tr><tr><td>dbfs:/mnt/bd-project/businesses/</td><td>businesses/</td><td>0</td><td>1718696231000</td></tr><tr><td>dbfs:/mnt/bd-project/checkin/</td><td>checkin/</td><td>0</td><td>1718696266000</td></tr><tr><td>dbfs:/mnt/bd-project/de-yelp-daily/</td><td>de-yelp-daily/</td><td>0</td><td>1719507638000</td></tr><tr><td>dbfs:/mnt/bd-project/synapse/</td><td>synapse/</td><td>0</td><td>1720282089000</td></tr><tr><td>dbfs:/mnt/bd-project/tip/</td><td>tip/</td><td>0</td><td>1718696292000</td></tr><tr><td>dbfs:/mnt/bd-project/users/</td><td>users/</td><td>0</td><td>1718696311000</td></tr><tr><td>dbfs:/mnt/bd-project/yelp-training-data/</td><td>yelp-training-data/</td><td>0</td><td>1718693488000</td></tr></tbody></table></div>"
      ]
     },
     "metadata": {
      "application/vnd.databricks.v1+output": {
       "addedWidgets": {},
       "aggData": [],
       "aggError": "",
       "aggOverflow": false,
       "aggSchema": [],
       "aggSeriesLimitReached": false,
       "aggType": "",
       "arguments": {},
       "columnCustomDisplayInfos": {},
       "data": [
        [
         "dbfs:/mnt/bd-project/LRModel/",
         "LRModel/",
         0,
         1719063436000
        ],
        [
         "dbfs:/mnt/bd-project/StringIndexer/",
         "StringIndexer/",
         0,
         1719063442000
        ],
        [
         "dbfs:/mnt/bd-project/bi/",
         "bi/",
         0,
         1719079080000
        ],
        [
         "dbfs:/mnt/bd-project/businesses/",
         "businesses/",
         0,
         1718696231000
        ],
        [
         "dbfs:/mnt/bd-project/checkin/",
         "checkin/",
         0,
         1718696266000
        ],
        [
         "dbfs:/mnt/bd-project/de-yelp-daily/",
         "de-yelp-daily/",
         0,
         1719507638000
        ],
        [
         "dbfs:/mnt/bd-project/synapse/",
         "synapse/",
         0,
         1720282089000
        ],
        [
         "dbfs:/mnt/bd-project/tip/",
         "tip/",
         0,
         1718696292000
        ],
        [
         "dbfs:/mnt/bd-project/users/",
         "users/",
         0,
         1718696311000
        ],
        [
         "dbfs:/mnt/bd-project/yelp-training-data/",
         "yelp-training-data/",
         0,
         1718693488000
        ]
       ],
       "datasetInfos": [],
       "dbfsResultPath": null,
       "isJsonSchema": true,
       "metadata": {},
       "overflow": false,
       "plotOptions": {
        "customPlotOptions": {},
        "displayType": "table",
        "pivotAggregation": null,
        "pivotColumns": null,
        "xColumns": null,
        "yColumns": null
       },
       "removedWidgets": [],
       "schema": [
        {
         "metadata": "{}",
         "name": "path",
         "type": "\"string\""
        },
        {
         "metadata": "{}",
         "name": "name",
         "type": "\"string\""
        },
        {
         "metadata": "{}",
         "name": "size",
         "type": "\"long\""
        },
        {
         "metadata": "{}",
         "name": "modificationTime",
         "type": "\"long\""
        }
       ],
       "type": "table"
      }
     },
     "output_type": "display_data"
    }
   ],
   "source": [
    "display(dbutils.fs.ls('mnt/bd-project'))"
   ]
  },
  {
   "cell_type": "markdown",
   "metadata": {},
   "source": [
    "#### Unmount Storage Container"
   ]
  },
  {
   "cell_type": "code",
   "execution_count": 0,
   "metadata": {
    "application/vnd.databricks.v1+cell": {
     "cellMetadata": {
      "byteLimit": 2048000,
      "rowLimit": 10000
     },
     "inputWidgets": {},
     "nuid": "c82f7c33-2de3-4914-9372-e71a620bab9d",
     "showTitle": false,
     "title": ""
    }
   },
   "outputs": [
    {
     "name": "stdout",
     "output_type": "stream",
     "text": [
      "/mnt/bd-project has been unmounted.\n"
     ]
    },
    {
     "data": {
      "text/plain": [
       "True"
      ]
     },
     "metadata": {},
     "output_type": "display_data"
    }
   ],
   "source": [
    "display(dbutils.fs.unmount('/mnt/bd-project'))"
   ]
  }
 ],
 "metadata": {
  "application/vnd.databricks.v1+notebook": {
   "dashboards": [],
   "environmentMetadata": null,
   "language": "python",
   "notebookMetadata": {
    "pythonIndentUnit": 4
   },
   "notebookName": "Mount Storage container",
   "widgets": {}
  },
  "language_info": {
   "name": "python"
  }
 },
 "nbformat": 4,
 "nbformat_minor": 0
}
